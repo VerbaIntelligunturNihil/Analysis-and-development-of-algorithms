{
 "cells": [
  {
   "cell_type": "markdown",
   "id": "17344f9b",
   "metadata": {},
   "source": [
    "***Lab 5***"
   ]
  },
  {
   "cell_type": "code",
   "execution_count": null,
   "id": "d65e73e2",
   "metadata": {},
   "outputs": [],
   "source": [
    "#Import needed tools\n",
    "import numpy as np\n",
    "import matplotlib.pyplot as plt\n",
    "import networkx as nx"
   ]
  },
  {
   "cell_type": "markdown",
   "id": "b82cfe34",
   "metadata": {},
   "source": [
    "**I. Generate a random adjacency matrix for a simple undirected unweighted graph with 100 vertices and 200 edges (note that the matrix should be symmetric and contain only 0s and 1s as elements). Transfer the matrix into an adjacency list. Visualize the graph and print several rows of the adjacency matrix and the adjacency list. Which purposes is each representation more convenient for?**"
   ]
  },
  {
   "cell_type": "markdown",
   "id": "b2d04937",
   "metadata": {},
   "source": [
    "    1.0. Create needed variables"
   ]
  },
  {
   "cell_type": "code",
   "execution_count": null,
   "id": "69b10739",
   "metadata": {},
   "outputs": [],
   "source": [
    "n_V = 100\n",
    "n_E = 200\n",
    "n = n_E"
   ]
  },
  {
   "cell_type": "markdown",
   "id": "201670ad",
   "metadata": {},
   "source": [
    "    1.1. Generate adjacency matrix"
   ]
  },
  {
   "cell_type": "code",
   "execution_count": null,
   "id": "0d81b482",
   "metadata": {},
   "outputs": [],
   "source": [
    "adj_matrix = np.zeros((n_V, n_E))\n",
    "\n",
    "while n != 0:\n",
    "    i, j = np.random.randint(0, 99), np.random.randint(0, 99)\n",
    "    if i != j and adj_matrix[i, j] != 1:\n",
    "        adj_matrix[i, j], adj_matrix[j, i] = 1, 1\n",
    "        n -= 1\n",
    "\n",
    "print(f'Shape: {adj_matrix.shape}, ones ammount: {np.sum(adj_matrix)}')"
   ]
  },
  {
   "cell_type": "markdown",
   "id": "43e53ca2",
   "metadata": {},
   "source": [
    "    1.2. Transfer the matrix into an adjacency list"
   ]
  },
  {
   "cell_type": "code",
   "execution_count": null,
   "id": "91d8e3ea",
   "metadata": {},
   "outputs": [],
   "source": [
    "adj_list = {i: [] for i in range(n_V)}\n",
    "for k, v in adj_list.items():\n",
    "    for i in range(n_V):\n",
    "        if adj_matrix[k, i] == 1:\n",
    "            adj_list[k].append(i) \n",
    "        else:\n",
    "            next"
   ]
  },
  {
   "cell_type": "markdown",
   "id": "287493d5",
   "metadata": {},
   "source": [
    "    1.3. Visualize the graph"
   ]
  },
  {
   "cell_type": "code",
   "execution_count": null,
   "id": "d969157c",
   "metadata": {},
   "outputs": [],
   "source": [
    "class GraphVisualization:\n",
    "    def __init__(self, temp):\n",
    "        self.visual = temp\n",
    "    def visualize(self):\n",
    "        graph = nx.Graph()\n",
    "        plt.figure(figsize=(20,15))\n",
    "        plt.title(f'{n_V} vertices and {n_E} edges')\n",
    "        graph.add_edges_from(self.visual)\n",
    "        nx.draw_networkx(graph)\n",
    "        plt.show()\n",
    "\n",
    "data = []\n",
    "for k, v in adj_list.items():\n",
    "    data.extend([[k, i] for i in v])\n",
    "ans = GraphVisualization(data)\n",
    "ans.visualize()\n",
    "\n",
    "print('Random adjacency matrix rows:')\n",
    "print(adj_matrix[np.random.randint(0, 99, size=2)])\n",
    "print('Random adjacency list rows:')\n",
    "k = np.random.randint(0, 99, size=2) \n",
    "print(f'{k[0]} -> {adj_list[k[0]]} \\n{k[1]} -> {adj_list[k[1]]}')"
   ]
  },
  {
   "cell_type": "markdown",
   "id": "6237429d",
   "metadata": {},
   "source": [
    "**II. Use Depth-first search to find connected components of the graph and Breadth-first search to find a shortest path between two random vertices. Analyse the results obtained.**"
   ]
  },
  {
   "cell_type": "markdown",
   "id": "b66bad2a",
   "metadata": {},
   "source": [
    "    2.1. Creating of functions"
   ]
  },
  {
   "cell_type": "markdown",
   "id": "4eb50189",
   "metadata": {},
   "source": [
    "    2.1.1. Depth-first search"
   ]
  },
  {
   "cell_type": "code",
   "execution_count": null,
   "id": "abe0ec8c",
   "metadata": {},
   "outputs": [],
   "source": [
    "def DFS(temp, v, visited, adj_list):\n",
    "    visited[v] = True\n",
    "    temp.append(v)\n",
    "    for i in adj_list[v]:\n",
    "        if visited[i] == False:\n",
    "            temp = DFS(temp, i, visited, adj_list)\n",
    "    return temp\n",
    "\n",
    "def connected_components(v, adj_list):\n",
    "    visited = []\n",
    "    cc = []\n",
    "    for i in range(v):\n",
    "        visited.append(False)\n",
    "    for i in range(v):\n",
    "        if visited[i] == False:\n",
    "            temp = []\n",
    "            cc.append(DFS(temp, i, visited, adj_list))\n",
    "    return cc"
   ]
  },
  {
   "cell_type": "markdown",
   "id": "674cd17a",
   "metadata": {},
   "source": [
    "    2.1.2. Breadth-first search"
   ]
  },
  {
   "cell_type": "code",
   "execution_count": null,
   "id": "79be3810",
   "metadata": {},
   "outputs": [],
   "source": [
    "def BFS(start, end, n, g):\n",
    "    prev = solve(start, n, g)\n",
    "    return reconstructPath(start, end, prev)\n",
    "\n",
    "def solve(start, n, g):\n",
    "    queue = []\n",
    "    queue.insert(0, start)\n",
    "    visited = [False for i in range(n)]\n",
    "    visited[start] = True\n",
    "    \n",
    "    prev = [-1 for i in range(n)]\n",
    "    while len(queue) != 0:\n",
    "        node = queue.pop()\n",
    "        neighbours = g[node]\n",
    "        for i in neighbours:\n",
    "            if visited[i] == False:\n",
    "                queue.insert(0, i)\n",
    "                visited[i] = True\n",
    "                prev[i] = node\n",
    "    return prev\n",
    "\n",
    "def reconstructPath(start, end, prev):\n",
    "    path = []\n",
    "    k = end\n",
    "    while k != -1:\n",
    "        path.append(k)\n",
    "        k = prev[k]\n",
    "    path.reverse()\n",
    "    if path[0] == start:\n",
    "        return path\n",
    "    return []"
   ]
  },
  {
   "cell_type": "markdown",
   "id": "c04974eb",
   "metadata": {},
   "source": [
    "    2.2. Calculation"
   ]
  },
  {
   "cell_type": "markdown",
   "id": "1eb142e8",
   "metadata": {},
   "source": [
    "    2.2.1. For Depth-first search"
   ]
  },
  {
   "cell_type": "code",
   "execution_count": null,
   "id": "2375584c",
   "metadata": {},
   "outputs": [],
   "source": [
    "cc = connected_components(n_V, adj_list)\n",
    "\n",
    "n_cc = 0\n",
    "n_unconn_cc = 0\n",
    "for i in cc:\n",
    "    if len(i) > 1:\n",
    "        n_cc += 1\n",
    "    else:\n",
    "        n_unconn_cc += 1\n",
    "\n",
    "print(f'Number of connected vertices: {n_cc}')\n",
    "print(f'Number of unconnected vertices: {n_unconn_cc}')\n",
    "print('Components:')\n",
    "print(cc)"
   ]
  },
  {
   "cell_type": "markdown",
   "id": "0543a8d6",
   "metadata": {},
   "source": [
    "    2.2.2. For Breadth-first search"
   ]
  },
  {
   "cell_type": "code",
   "execution_count": null,
   "id": "748c27f8",
   "metadata": {},
   "outputs": [],
   "source": [
    "start_end = np.random.randint(0, 99, size=2)\n",
    "print(f'Random start: {start_end[0]}, random end: {start_end[1]}')\n",
    "way = BFS(start_end[0], start_end[1], n_V, adj_list)\n",
    "print(f'Shortest way: {way}')\n",
    "print(f'{start_end[0]} to {start_end[1]}')\n",
    "for i in way:\n",
    "    print(f\"{i} -> {adj_list[i]}\")"
   ]
  },
  {
   "cell_type": "markdown",
   "id": "7c0cc4b9",
   "metadata": {},
   "source": [
    "**III. Describe the data structures and design techniques used within the algorithms.**"
   ]
  },
  {
   "cell_type": "markdown",
   "id": "4daf33d1",
   "metadata": {},
   "source": [
    "A Graph is a non-linear data structure consisting of vertices and edges. The vertices are sometimes also referred to as nodes and the edges are lines or arcs that connect any two nodes in the graph. More formally a Graph is composed of a set of vertices( V ) and a set of edges( E ). The graph is denoted by G(E, V). Undirected and unweight mean that the graph does not have directions between his verticles and all adges have the same weight"
   ]
  }
 ],
 "metadata": {
  "kernelspec": {
   "display_name": "Python 3 (ipykernel)",
   "language": "python",
   "name": "python3"
  },
  "language_info": {
   "codemirror_mode": {
    "name": "ipython",
    "version": 3
   },
   "file_extension": ".py",
   "mimetype": "text/x-python",
   "name": "python",
   "nbconvert_exporter": "python",
   "pygments_lexer": "ipython3",
   "version": "3.10.9"
  }
 },
 "nbformat": 4,
 "nbformat_minor": 5
}
