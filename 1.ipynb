{
 "cells": [
  {
   "cell_type": "markdown",
   "id": "8a31c315",
   "metadata": {},
   "source": [
    "***Lab 1***"
   ]
  },
  {
   "cell_type": "code",
   "execution_count": null,
   "id": "469aa9c4",
   "metadata": {},
   "outputs": [],
   "source": [
    "#Import needed tools\n",
    "import matplotlib.pyplot as plt\n",
    "import numpy as np\n",
    "import random\n",
    "import timeit"
   ]
  },
  {
   "cell_type": "markdown",
   "id": "829c4180",
   "metadata": {},
   "source": [
    "**I. Generate an n-dimensional random vector 𝒗 = [v1,v2,...,vn] with non-negative\n",
    "elements. For 𝒗, implement the following calculations and algorithms:**"
   ]
  },
  {
   "cell_type": "markdown",
   "id": "3f742d5b",
   "metadata": {},
   "source": [
    "*Creating of functions*"
   ]
  },
  {
   "cell_type": "code",
   "execution_count": null,
   "id": "c749e3dd",
   "metadata": {},
   "outputs": [],
   "source": [
    "#Function for finding spent time for each algorithm\n",
    "def find_spent_time(func):\n",
    "    time = []\n",
    "    for i in range(2000):\n",
    "        t = 0\n",
    "        for j in range(5):\n",
    "            numbers = list(np.random.random(i))\n",
    "            start_time = timeit.default_timer()\n",
    "            func(numbers)\n",
    "            end_time = timeit.default_timer()\n",
    "            t+=(end_time-start_time)\n",
    "        time.append(t/5)\n",
    "    return time"
   ]
  },
  {
   "cell_type": "code",
   "execution_count": null,
   "id": "aac3c56f",
   "metadata": {},
   "outputs": [],
   "source": [
    "#1. Constant function\n",
    "def constant(data):\n",
    "    return 1"
   ]
  },
  {
   "cell_type": "code",
   "execution_count": null,
   "id": "36c05f7d",
   "metadata": {},
   "outputs": [],
   "source": [
    "#2. The sum of elements\n",
    "def sum_of_elem(data):\n",
    "    ans = 0\n",
    "    for i in data:\n",
    "        ans+=i\n",
    "    return ans"
   ]
  },
  {
   "cell_type": "code",
   "execution_count": null,
   "id": "9d92b4cc",
   "metadata": {},
   "outputs": [],
   "source": [
    "#3. The product of elements\n",
    "def prod_of_elem(data):\n",
    "    ans = 1\n",
    "    for i in data:\n",
    "        ans*=i\n",
    "    return ans"
   ]
  },
  {
   "cell_type": "code",
   "execution_count": null,
   "id": "06dd2598",
   "metadata": {},
   "outputs": [],
   "source": [
    "#4.1. Polynomial normal method\n",
    "def polynomial_normal(data):\n",
    "    ans = 0\n",
    "    for i in range(len(data)):\n",
    "        ans += data[i]*np.float64(1.5)**i\n",
    "    return ans"
   ]
  },
  {
   "cell_type": "code",
   "execution_count": null,
   "id": "964510e6",
   "metadata": {},
   "outputs": [],
   "source": [
    "#4.2. Polynomial Horner's method\n",
    "def polynomial_horner(data):\n",
    "    ans = 0\n",
    "    for i in range(len(data),0,-1):\n",
    "        ans = data[i-1]+np.float64(1.5)*ans\n",
    "    return ans"
   ]
  },
  {
   "cell_type": "code",
   "execution_count": null,
   "id": "4fa55a7f",
   "metadata": {},
   "outputs": [],
   "source": [
    "#5. Bubble sort\n",
    "def bubble_sort(data):\n",
    "    for i in range(len(data)):\n",
    "        for j in range(0, len(data)-i-1):\n",
    "            if data[j] > data[j+1]:\n",
    "                data[j], data[j+1] = data[j+1], data[j]\n",
    "    return data"
   ]
  },
  {
   "cell_type": "code",
   "execution_count": null,
   "id": "5a212dac",
   "metadata": {},
   "outputs": [],
   "source": [
    "#6. Quick sort\n",
    "def quick_sort(data):\n",
    "    return np.sort(data,kind='quicksort')"
   ]
  },
  {
   "cell_type": "code",
   "execution_count": null,
   "id": "d15dfbff",
   "metadata": {},
   "outputs": [],
   "source": [
    "#7. Timsort\n",
    "def timsort(data):\n",
    "    return np.sort(data,kind='stable')"
   ]
  },
  {
   "cell_type": "markdown",
   "id": "7144ad30",
   "metadata": {},
   "source": [
    "*Finding spent time for each algorithm*"
   ]
  },
  {
   "cell_type": "code",
   "execution_count": null,
   "id": "8fbba30e",
   "metadata": {},
   "outputs": [],
   "source": [
    "constant_time = find_spent_time(constant)"
   ]
  },
  {
   "cell_type": "code",
   "execution_count": null,
   "id": "a4195114",
   "metadata": {},
   "outputs": [],
   "source": [
    "sum_of_elem_time = find_spent_time(sum_of_elem)"
   ]
  },
  {
   "cell_type": "code",
   "execution_count": null,
   "id": "7f557e40",
   "metadata": {},
   "outputs": [],
   "source": [
    "prod_of_elem_time = find_spent_time(prod_of_elem)"
   ]
  },
  {
   "cell_type": "code",
   "execution_count": null,
   "id": "e13e9a90",
   "metadata": {},
   "outputs": [],
   "source": [
    "polynomial_normal_time = find_spent_time(polynomial_normal)"
   ]
  },
  {
   "cell_type": "code",
   "execution_count": null,
   "id": "59c1faf4",
   "metadata": {},
   "outputs": [],
   "source": [
    "polynomial_horner_time = find_spent_time(polynomial_horner)"
   ]
  },
  {
   "cell_type": "code",
   "execution_count": null,
   "id": "9b6a55dc",
   "metadata": {},
   "outputs": [],
   "source": [
    "bubble_sort_time = find_spent_time(bubble_sort)"
   ]
  },
  {
   "cell_type": "code",
   "execution_count": null,
   "id": "0de715a3",
   "metadata": {},
   "outputs": [],
   "source": [
    "quick_sort_time = find_spent_time(quick_sort)"
   ]
  },
  {
   "cell_type": "code",
   "execution_count": null,
   "id": "cc0cd230",
   "metadata": {},
   "outputs": [],
   "source": [
    "timsort_time = find_spent_time(timsort)"
   ]
  },
  {
   "cell_type": "markdown",
   "id": "53ddf22b",
   "metadata": {},
   "source": [
    "*Visualization*"
   ]
  },
  {
   "cell_type": "code",
   "execution_count": null,
   "id": "f7fb736a",
   "metadata": {},
   "outputs": [],
   "source": [
    "plt.figure()\n",
    "plt.plot(constant_time)\n",
    "plt.ylabel('Time, sec')\n",
    "plt.xlabel('n')\n",
    "plt.legend(['Constant time'])\n",
    "plt.show()"
   ]
  },
  {
   "cell_type": "code",
   "execution_count": null,
   "id": "38e4f5c4",
   "metadata": {},
   "outputs": [],
   "source": [
    "plt.figure()\n",
    "plt.plot(sum_of_elem_time)\n",
    "plt.ylabel('Time, sec')\n",
    "plt.xlabel('n')\n",
    "plt.legend(['Sum of elements time'])\n",
    "plt.show()"
   ]
  },
  {
   "cell_type": "code",
   "execution_count": null,
   "id": "bb497ea7",
   "metadata": {},
   "outputs": [],
   "source": [
    "plt.figure()\n",
    "plt.plot(prod_of_elem_time)\n",
    "plt.ylabel('Time, sec')\n",
    "plt.xlabel('n')\n",
    "plt.legend(['Product of elements time'])\n",
    "plt.show()"
   ]
  },
  {
   "cell_type": "code",
   "execution_count": null,
   "id": "240dad54",
   "metadata": {},
   "outputs": [],
   "source": [
    "plt.figure()\n",
    "plt.plot(polynomial_normal_time)\n",
    "plt.ylabel('Time, sec')\n",
    "plt.xlabel('n')\n",
    "plt.legend(['Polynomial normal time'])\n",
    "plt.show()"
   ]
  },
  {
   "cell_type": "code",
   "execution_count": null,
   "id": "957e987a",
   "metadata": {},
   "outputs": [],
   "source": [
    "plt.figure()\n",
    "plt.plot(polynomial_horner_time)\n",
    "plt.ylabel('Time, sec')\n",
    "plt.xlabel('n')\n",
    "plt.legend([\"Polynomial Horner's time\"])\n",
    "plt.show()"
   ]
  },
  {
   "cell_type": "code",
   "execution_count": null,
   "id": "bb259a87",
   "metadata": {},
   "outputs": [],
   "source": [
    "plt.figure()\n",
    "plt.plot(bubble_sort_time)\n",
    "plt.ylabel('Time, sec')\n",
    "plt.xlabel('n')\n",
    "plt.legend(['Bubble sort time'])\n",
    "plt.show()"
   ]
  },
  {
   "cell_type": "code",
   "execution_count": null,
   "id": "d3b44604",
   "metadata": {},
   "outputs": [],
   "source": [
    "plt.figure()\n",
    "plt.plot(quick_sort_time)\n",
    "plt.ylabel('Time, sec')\n",
    "plt.xlabel('n')\n",
    "plt.legend(['Quick sort time'])\n",
    "plt.show()"
   ]
  },
  {
   "cell_type": "code",
   "execution_count": null,
   "id": "d01c9430",
   "metadata": {},
   "outputs": [],
   "source": [
    "plt.figure()\n",
    "plt.plot(timsort_time)\n",
    "plt.ylabel('Time, sec')\n",
    "plt.xlabel('n')\n",
    "plt.legend(['Timsort time'])\n",
    "plt.show()"
   ]
  },
  {
   "cell_type": "markdown",
   "id": "bb90b964",
   "metadata": {},
   "source": [
    "**II. Generate random matrices 𝐴 and 𝐵 of size 𝑛 × 𝑛 with non-negative elements.\n",
    "Find the usual matrix product for 𝐴 and 𝐵.**"
   ]
  },
  {
   "cell_type": "markdown",
   "id": "fe8dc6dc",
   "metadata": {},
   "source": [
    "*Creating of function*"
   ]
  },
  {
   "cell_type": "code",
   "execution_count": null,
   "id": "25d0292b",
   "metadata": {},
   "outputs": [],
   "source": [
    "#Function for finding spent time for each algorithm\n",
    "def find_spent_time_matrix():\n",
    "    time = []\n",
    "    for i in range(1, 501):\n",
    "        t = 0\n",
    "        for j in range(5):\n",
    "            a = np.random.random((i,i))\n",
    "            b = np.random.random((i,i))\n",
    "            start_time = timeit.default_timer()\n",
    "            a@b\n",
    "            end_time = timeit.default_timer()\n",
    "            t+=(end_time-start_time)\n",
    "        time.append(t/5)\n",
    "    return time"
   ]
  },
  {
   "cell_type": "markdown",
   "id": "38801d7a",
   "metadata": {},
   "source": [
    "*Finding spent time for matrix product*"
   ]
  },
  {
   "cell_type": "code",
   "execution_count": null,
   "id": "a23ccd0c",
   "metadata": {},
   "outputs": [],
   "source": [
    "prod_of_matrices_time = find_spent_time_matrix()"
   ]
  },
  {
   "cell_type": "markdown",
   "id": "03017164",
   "metadata": {},
   "source": [
    "*Visualization*"
   ]
  },
  {
   "cell_type": "code",
   "execution_count": null,
   "id": "a263a592",
   "metadata": {},
   "outputs": [],
   "source": [
    "plt.figure()\n",
    "plt.plot(prod_of_matrices_time)\n",
    "plt.ylabel('Time, sec')\n",
    "plt.xlabel('n')\n",
    "plt.legend(['Product of matrices time'])\n",
    "plt.show()"
   ]
  },
  {
   "cell_type": "markdown",
   "id": "0098066c",
   "metadata": {},
   "source": [
    "**III. Describe the data structures and design techniques used within the algorithms.**"
   ]
  },
  {
   "cell_type": "markdown",
   "id": "ee30236a",
   "metadata": {},
   "source": [
    "*1. Constant Function:*\n",
    "\n",
    "**Data Structure**: This algorithm doesn't require any specific data structure since it represents a simple mathematical concept. It takes no inputs and returns a constant value.\n",
    "\n",
    "*2. Sum of Elements:*\n",
    "\n",
    "**Data Structure**: Array of numbers.\n",
    "\n",
    "**Design Technique**: The algorithm uses a loop to iterate through the elements of the array and accumulate their values to calculate the sum.\n",
    "\n",
    "*3. Product of Elements:*\n",
    "\n",
    "**Data Structure**: Array of numbers.\n",
    "\n",
    "**Design Technique**: The algorithm iterates through the elements of the array and multiplies them together to calculate the product.\n",
    "\n",
    "*4. Polynomial Normal Method:*\n",
    "\n",
    "**Data Structure**: Array of numbers.\n",
    "\n",
    "**Design Technique**: It employs a straightforward approach to evaluate a polynomial by iterating through the coefficients and accumulating the results using the powers of 'x' (1.5).\n",
    "\n",
    "*5. Polynomial Horner's Method:*\n",
    "\n",
    "**Data Structure**: Array of numbers.\n",
    "\n",
    "**Design Technique**: Horner's method is a more efficient technique for polynomial evaluation. It uses a nested loop structure to reduce the number of multiplications required.\n",
    "\n",
    "*6. Bubble Sort:*\n",
    "\n",
    "**Data Structure**: Array of numbers.\n",
    "\n",
    "**Design Technique**: It's a simple sorting algorithm that repeatedly compares and swaps adjacent elements until the entire list is sorted. It uses nested loops for these comparisons and swaps.\n",
    "\n",
    "*7. Quick Sort:*\n",
    "\n",
    "**Data Structure**: Array of numbers.\n",
    "\n",
    "**Design Technique**: Quick Sort is a divide-and-conquer sorting algorithm. It selects a pivot element, partitions the array, and recursively sorts the subarrays. It uses recursion to achieve sorting.\n",
    "\n",
    "*8. Timsort:*\n",
    "\n",
    "**Data Structure**: Arrays for elements and temporary arrays for merging.\n",
    "\n",
    "**Design Technique**: Timsort is a hybrid sorting algorithm that combines Merge Sort and Insertion Sort. It divides the input into small runs, sorts them using Insertion Sort, and then merges them using Merge Sort.\n",
    "\n",
    "*9. Product of Matrices:*\n",
    "\n",
    "**Data Structure**: Two matrices, represented as two dimensional arrays.\n",
    "\n",
    "**Design Technique**: Matrix multiplication involves nested loops to iterate through rows and columns, and it accumulates products to calculate the resulting matrix."
   ]
  }
 ],
 "metadata": {
  "kernelspec": {
   "display_name": "Python 3 (ipykernel)",
   "language": "python",
   "name": "python3"
  },
  "language_info": {
   "codemirror_mode": {
    "name": "ipython",
    "version": 3
   },
   "file_extension": ".py",
   "mimetype": "text/x-python",
   "name": "python",
   "nbconvert_exporter": "python",
   "pygments_lexer": "ipython3",
   "version": "3.10.9"
  }
 },
 "nbformat": 4,
 "nbformat_minor": 5
}
