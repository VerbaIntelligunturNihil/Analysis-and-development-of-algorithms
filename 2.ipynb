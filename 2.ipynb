{
 "cells": [
  {
   "cell_type": "markdown",
   "id": "13077fbe",
   "metadata": {},
   "source": [
    "***Lab 2***"
   ]
  },
  {
   "cell_type": "code",
   "execution_count": null,
   "id": "45d16ab3",
   "metadata": {},
   "outputs": [],
   "source": [
    "#Import needed tools\n",
    "import matplotlib.pyplot as plt\n",
    "import numpy as np\n",
    "import random\n",
    "from scipy.optimize import minimize"
   ]
  },
  {
   "cell_type": "markdown",
   "id": "8649196b",
   "metadata": {},
   "source": [
    "**I. Use the one-dimensional methods of exhaustive search, dichotomy and golden section search to find an approximate (with precision 𝜀 = 0.001) solution 𝑥: 𝑓(𝑥) → 𝑚𝑖𝑛 for the following functions and domains:**\n",
    "\n",
    "**1.𝑓(𝑥) = 𝑥^3, 𝑥 ∈ [0, 1];**\n",
    "\n",
    "**2.𝑓(𝑥) = |𝑥 − 0.2|, 𝑥 ∈ [0, 1];**\n",
    "\n",
    "**3.𝑓(𝑥) = 𝑥 𝑠𝑖𝑛 (1/x), 𝑥 ∈ [0.01, 1].**\n",
    "\n",
    "**Calculate the number of 𝑓-calculations and the number of iterations performed in each method and analyze the results. Explain differences (if any) in the results obtained.**"
   ]
  },
  {
   "cell_type": "markdown",
   "id": "c4f3de53",
   "metadata": {},
   "source": [
    "1. Creating of functions"
   ]
  },
  {
   "cell_type": "markdown",
   "id": "76212230",
   "metadata": {},
   "source": [
    "    1.1. Functions of methods"
   ]
  },
  {
   "cell_type": "code",
   "execution_count": null,
   "id": "caf4c45a",
   "metadata": {},
   "outputs": [],
   "source": [
    "#1. Brute-Force (Exhaustive Search) Method\n",
    "def brute_force_method(func):\n",
    "    ans = []\n",
    "    number_of_iterations = 0\n",
    "    if str(func.__name__)=='sinus':\n",
    "        for i in range(0,1001):\n",
    "            number_of_iterations+=1\n",
    "            ans.append(func(0.99/1000*i+0.01))\n",
    "    else:\n",
    "        for i in range(0,1001):\n",
    "            number_of_iterations+=1\n",
    "            ans.append(func(i/1000))\n",
    "    return min(ans),len(ans),number_of_iterations"
   ]
  },
  {
   "cell_type": "code",
   "execution_count": null,
   "id": "62c66035",
   "metadata": {},
   "outputs": [],
   "source": [
    "#2. Dichotomy Method\n",
    "def dichotomy_method(func,left,right):\n",
    "    beta = 0.0009\n",
    "    number_of_dots = 0\n",
    "    number_of_iterations = 0\n",
    "    while abs(left-right)>=0.001:\n",
    "        number_of_iterations+=1\n",
    "        number_of_dots+=2\n",
    "        x1 = (left+right-beta)/2\n",
    "        x2 = (left+right+beta)/2\n",
    "        if func(x1)<=func(x2):\n",
    "            right = x2\n",
    "        else:\n",
    "            left = x1\n",
    "    return func((left+right)/2),number_of_dots+1,number_of_iterations"
   ]
  },
  {
   "cell_type": "code",
   "execution_count": null,
   "id": "3366eda4",
   "metadata": {},
   "outputs": [],
   "source": [
    "#3. Golden Section Method\n",
    "def golden_section_method(func,left,right):\n",
    "    number_of_dots = 0\n",
    "    number_of_iterations = 0\n",
    "    x1 = left+(3-np.sqrt(5))/2*(right-left)\n",
    "    x2 = right+(np.sqrt(5)-3)/2*(right-left)\n",
    "    while abs(left-right)>=0.001:\n",
    "        number_of_iterations+=1\n",
    "        number_of_dots+=1\n",
    "        if func(x1)<=func(x2):\n",
    "            right = x2\n",
    "            x2 = x1\n",
    "            x1 = left+(3-np.sqrt(5))/2*(right-left)\n",
    "        else:\n",
    "            left = x1\n",
    "            x1 = x2\n",
    "            x2 = right+(np.sqrt(5)-3)/2*(right-left) \n",
    "    return func((left+right)/2),number_of_dots+3,number_of_iterations"
   ]
  },
  {
   "cell_type": "markdown",
   "id": "996d5397",
   "metadata": {},
   "source": [
    "    1.2. Following functions"
   ]
  },
  {
   "cell_type": "code",
   "execution_count": null,
   "id": "80509436",
   "metadata": {},
   "outputs": [],
   "source": [
    "#1. Cube function\n",
    "def cube(x):\n",
    "    return x**3"
   ]
  },
  {
   "cell_type": "code",
   "execution_count": null,
   "id": "79ffc06f",
   "metadata": {},
   "outputs": [],
   "source": [
    "#2. Module function\n",
    "def module(x):\n",
    "    return abs(x-0.2)"
   ]
  },
  {
   "cell_type": "code",
   "execution_count": null,
   "id": "7451937a",
   "metadata": {},
   "outputs": [],
   "source": [
    "#3. Sinus function\n",
    "def sinus(x):\n",
    "    return x*np.sin(1/x)"
   ]
  },
  {
   "cell_type": "markdown",
   "id": "5b574dd1",
   "metadata": {},
   "source": [
    "2. Finding minimum, F-calculations and N of iterations"
   ]
  },
  {
   "cell_type": "markdown",
   "id": "a69924a1",
   "metadata": {},
   "source": [
    "    2.1. For Brute-Force Method"
   ]
  },
  {
   "cell_type": "code",
   "execution_count": null,
   "id": "461a4a70",
   "metadata": {},
   "outputs": [],
   "source": [
    "print('(min, F-calculations, N of iterations)')\n",
    "print(brute_force_method(cube))\n",
    "print(brute_force_method(module))\n",
    "print(brute_force_method(sinus))"
   ]
  },
  {
   "cell_type": "markdown",
   "id": "a9603d0f",
   "metadata": {},
   "source": [
    "    2.2. For Dichotomy Method"
   ]
  },
  {
   "cell_type": "code",
   "execution_count": null,
   "id": "72dd92be",
   "metadata": {},
   "outputs": [],
   "source": [
    "print('(min, F-calculations, N of iterations)')\n",
    "print(dichotomy_method(cube,0,1))\n",
    "print(dichotomy_method(module,0,1))\n",
    "print(dichotomy_method(sinus,0.01,1))"
   ]
  },
  {
   "cell_type": "markdown",
   "id": "38d97616",
   "metadata": {},
   "source": [
    "    2.3. For Golden Section Method"
   ]
  },
  {
   "cell_type": "code",
   "execution_count": null,
   "id": "4cbedffc",
   "metadata": {},
   "outputs": [],
   "source": [
    "print('(min, F-calculations, N of iterations)')\n",
    "print(golden_section_method(cube,0,1))\n",
    "print(golden_section_method(module,0,1))\n",
    "print(golden_section_method(sinus,0.01,1))"
   ]
  },
  {
   "cell_type": "markdown",
   "id": "10249c9b",
   "metadata": {},
   "source": [
    "**II. Generate random numbers 𝛼 ∈ (0,1) and 𝛽 ∈ (0,1). Furthermore, generate the noisy data {𝑥>, 𝑦>}, where 𝑘 = 0,…,100, according to the following rule:**\n",
    "\n",
    "**𝑦_k = 𝛼𝑥_k + 𝛽 + 𝛿_k, 𝑥_k = k/100,**\n",
    "\n",
    "**where 𝛿_k~𝑁(0,1) are values of a random variable with standard normal distribution. Approximate the data by the following linear and rational functions:**\n",
    "\n",
    "**1. 𝐹(𝑥, 𝑎, 𝑏) = 𝑎𝑥 + 𝑏 (linear approximant),**\n",
    "\n",
    "**2. 𝐹(𝑥, 𝑎, 𝑏) = 𝑎/(1+𝑏𝑥) (rational approximant),**\n",
    "\n",
    "**by means of least squares through the numerical minimization (with precision 𝜀 = 0.001) of the following function:**\n",
    "\n",
    "**𝐷(𝑎, 𝑏) =  sum(k=0, 100)((𝐹(𝑥_k, 𝑎, 𝑏) − 𝑦_k)^2)**\n",
    "\n",
    "**To solve the minimization problem, use the methods of exhaustive search, Gauss and Nelder-Mead. If necessary, set the initial approximations and other parameters of the methods. Visualize the data and the approximants obtained in a plot separately for each type of approximant so that one can compare the results for the numerical methods used. Analyze the results obtained (in terms of number of iterations, precision, number of function evaluations, etc.).**"
   ]
  },
  {
   "cell_type": "markdown",
   "id": "1edf656b",
   "metadata": {},
   "source": [
    "    1.0. Creating needed variables"
   ]
  },
  {
   "cell_type": "code",
   "execution_count": null,
   "id": "d520d972",
   "metadata": {},
   "outputs": [],
   "source": [
    "#Initialization of X and Y dots coordinates\n",
    "alpha = random.uniform(0,1)\n",
    "beta = random.uniform(0,1)\n",
    "\n",
    "x_k = np.array([i/100 for i in range(0,101)])\n",
    "y_k = [alpha*i+beta+random.normalvariate(0.5,0.125) for i in x_k]"
   ]
  },
  {
   "cell_type": "markdown",
   "id": "83e6f913",
   "metadata": {},
   "source": [
    "    1.1. Least-squares Method"
   ]
  },
  {
   "cell_type": "code",
   "execution_count": null,
   "id": "4354250a",
   "metadata": {},
   "outputs": [],
   "source": [
    "X = np.vstack([x_k, np.ones(len(x_k))]).T\n",
    "a,b = np.linalg.lstsq(X, y_k, rcond=None)[0]\n",
    "\n",
    "print('[a,b] = ',[a,b])\n",
    "\n",
    "plt.scatter(x_k, y_k)\n",
    "plt.plot(x_k, a*x_k+b, 'r')"
   ]
  },
  {
   "cell_type": "markdown",
   "id": "bb102322",
   "metadata": {},
   "source": [
    "    1.2. Brute-Force Method"
   ]
  },
  {
   "cell_type": "markdown",
   "id": "f7f0b0b9",
   "metadata": {},
   "source": [
    "        1.2.1. For linear function"
   ]
  },
  {
   "cell_type": "code",
   "execution_count": null,
   "id": "dfd8559f",
   "metadata": {},
   "outputs": [],
   "source": [
    "lin_ans = []\n",
    "for a in range(0,1001):\n",
    "    a/=1000\n",
    "    for b in range(0,1001):\n",
    "        b/=1000\n",
    "        dot_number = 0\n",
    "        for k in range(0,101):\n",
    "            dot_number+=(a*x_k[k]+b-y_k[k])**2\n",
    "        lin_ans.append([dot_number,a,b])\n",
    "\n",
    "minimum = min(i[0] for i in lin_ans)\n",
    "for elem in lin_ans:\n",
    "    if elem[0]==minimum:\n",
    "        a = elem[1]\n",
    "        b = elem[2]\n",
    "        break\n",
    "\n",
    "print('[a,b,F-calculation,N of iterations] = ',[a,b,(1001**2),(1001**2)])\n",
    "\n",
    "brute_force_lin = [a,b]\n",
    "\n",
    "plt.scatter(x_k, y_k)\n",
    "plt.plot(x_k, a*x_k+b, 'r')"
   ]
  },
  {
   "cell_type": "markdown",
   "id": "7a8f33f1",
   "metadata": {},
   "source": [
    "        1.2.2. For rational function"
   ]
  },
  {
   "cell_type": "code",
   "execution_count": null,
   "id": "a9d832ba",
   "metadata": {},
   "outputs": [],
   "source": [
    "rat_ans = []\n",
    "for a in range(0,1001):\n",
    "    a/=1000\n",
    "    for b in range(0,1001):\n",
    "        b = -b/1000\n",
    "        dot_number = 0\n",
    "        for k in range(0,101):\n",
    "            dot_number+=(a/(1+b*x_k[k])-y_k[k])**2\n",
    "        rat_ans.append([dot_number,a,b])\n",
    "\n",
    "minimum = min(i[0] for i in rat_ans)\n",
    "for elem in rat_ans:\n",
    "    if elem[0]==minimum:\n",
    "        a = elem[1]\n",
    "        b = elem[2]\n",
    "        break\n",
    "        \n",
    "print('[a,b,F-calculation,N of iterations] = ',[a,b,(1000**2),(1000**2)])\n",
    "\n",
    "brute_force_rat = [a,b]\n",
    "\n",
    "plt.scatter(x_k, y_k)\n",
    "plt.plot(x_k, a/(1+b*x_k), 'r')"
   ]
  },
  {
   "cell_type": "markdown",
   "id": "ccde92c7",
   "metadata": {},
   "source": [
    "    1.3. Gauss (Coordinate Descent) Method"
   ]
  },
  {
   "cell_type": "markdown",
   "id": "49a4120d",
   "metadata": {},
   "source": [
    "        1.3.1. For linear function"
   ]
  },
  {
   "cell_type": "code",
   "execution_count": null,
   "id": "d97c3f45",
   "metadata": {},
   "outputs": [],
   "source": [
    "a1 = 0.05\n",
    "b1 = 0.05\n",
    "b1_temp = 10000\n",
    "number_of_iterations = 0\n",
    "number_of_dots = 0\n",
    "while True:\n",
    "    number_of_iterations+=2\n",
    "    ans_a = []\n",
    "    for a in range(0,1001):\n",
    "        number_of_dots+=1\n",
    "        a/=1000\n",
    "        dot_number = 0\n",
    "        for k in range(0,101):\n",
    "            dot_number+=(a*x_k[k]+b1-y_k[k])**2\n",
    "        ans_a.append(dot_number)\n",
    "    a1_temp = ans_a.index(min(ans_a))/1000\n",
    "    if abs(a1 - a1_temp) < 0.001 and abs(b1 - b1_temp) < 0.001:\n",
    "        break\n",
    "    a1 = a1_temp\n",
    "    \n",
    "    \n",
    "    ans_b = []\n",
    "    for a in range(0,1001):\n",
    "        number_of_dots+=1\n",
    "        b/=1000\n",
    "        dot_number = 0\n",
    "        for k in range(0,101):\n",
    "            dot_number+=(a1*x_k[k]+b-y_k[k])**2\n",
    "        ans_b.append(dot_number)\n",
    "    b1_temp = ans_b.index(min(ans_b))/1000\n",
    "    if abs(b1 - b1_temp) < 0.001 and abs(a1 - a1_temp) < 0.001:\n",
    "        break\n",
    "    b1 = b1_temp\n",
    "\n",
    "print('[a,b,F-calculation,N of iterations] = ',[a1,b1,number_of_dots,number_of_iterations])\n",
    "    \n",
    "gauss_lin = [a1,b1]\n",
    "\n",
    "plt.scatter(x_k, y_k)\n",
    "plt.plot(x_k, a1*x_k+b1, 'r')"
   ]
  },
  {
   "cell_type": "markdown",
   "id": "408e82c2",
   "metadata": {},
   "source": [
    "        1.3.2. For rational function"
   ]
  },
  {
   "cell_type": "code",
   "execution_count": null,
   "id": "32515458",
   "metadata": {},
   "outputs": [],
   "source": [
    "a1 = 0.05\n",
    "b1 = -0.05\n",
    "b1_temp = 10000\n",
    "number_of_iterations = 0\n",
    "number_of_dots = 0\n",
    "while True:\n",
    "    number_of_iterations+=2\n",
    "    ans_a = []\n",
    "    for a in range(0, 1000):\n",
    "        number_of_dots += 1\n",
    "        a/=1000\n",
    "        dot_number = 0\n",
    "        for k in range(0, 101):\n",
    "            dot_number += (a/(1+b1*x_k[k])-y_k[k])**2\n",
    "        ans_a.append(dot_number)\n",
    "    a1_temp = ans_a.index(min(ans_a))/1000\n",
    "    if abs(a1 - a1_temp) < 0.001 and abs(b1 - b1_temp) < 0.001:\n",
    "        break\n",
    "    a1 = a1_temp\n",
    "\n",
    "    ans_b = []\n",
    "    for b in range(0, 1000):\n",
    "        number_of_dots+=1\n",
    "        b = -b/1000\n",
    "        dot_number = 0\n",
    "        for k in range(0, 101):\n",
    "            dot_number += (a1/(1+b*x_k[k])-y_k[k])**2\n",
    "        ans_b.append(dot_number)\n",
    "    b1_temp = ans_b.index(min(ans_b))/-1000\n",
    "    if abs(b1 - b1_temp) < 0.001 and abs(a1 - a1_temp) < 0.001:\n",
    "        break\n",
    "    b1 = b1_temp\n",
    "    \n",
    "print('[a, b, f-calculations, N of iterations] =',[a1, b1, f_calc, number_of_iterations])\n",
    "\n",
    "gauss_rat = [a1,b1]\n",
    "plt.scatter(x_k,y_k)\n",
    "plt.plot(x_k, a1/(1+b1*x_k), 'r')"
   ]
  },
  {
   "cell_type": "markdown",
   "id": "19417598",
   "metadata": {},
   "source": [
    "    1.4. Nelder-Mead Method"
   ]
  },
  {
   "cell_type": "markdown",
   "id": "9d9daece",
   "metadata": {},
   "source": [
    "        1.4.1. For linear function"
   ]
  },
  {
   "cell_type": "code",
   "execution_count": null,
   "id": "d7a97614",
   "metadata": {},
   "outputs": [],
   "source": [
    "def lin_func(data):\n",
    "    a,b = data\n",
    "    ans = 0\n",
    "    for k in range(0,101):\n",
    "        ans+=(a*x_k[k]+b-y_k[k])**2\n",
    "    return ans\n",
    "\n",
    "res = minimize(lin_func,[0.3, 0.3], method = 'nelder-mead', options = {'xatol': 0.001, 'disp': True})\n",
    "nm_lin = res.x\n",
    "\n",
    "print('[a,b] = ',res.x)\n",
    "\n",
    "plt.scatter(x_k, y_k)\n",
    "plt.plot(x_k, res.x[0] * x_k + res.x[1],'r')"
   ]
  },
  {
   "cell_type": "markdown",
   "id": "21bbb99e",
   "metadata": {},
   "source": [
    "        1.4.2. For rational function"
   ]
  },
  {
   "cell_type": "code",
   "execution_count": null,
   "id": "191831d7",
   "metadata": {},
   "outputs": [],
   "source": [
    "def rat_func(data):\n",
    "    a,b = data\n",
    "    ans = 0\n",
    "    for k in range(0,101):\n",
    "        ans+=(a/(1+b*x_k[k])-y_k[k])**2\n",
    "    return ans\n",
    "\n",
    "res = minimize(rat_func,[0.3, 0.3], method = 'nelder-mead', options = {'xatol': 0.001, 'disp': True})\n",
    "nm_rat = res.x\n",
    "\n",
    "print('[a,b] = ',res.x)\n",
    "\n",
    "plt.scatter(x_k, y_k)\n",
    "plt.plot(x_k, res.x[0] / (1 + res.x[1] * x_k),'r')"
   ]
  },
  {
   "cell_type": "markdown",
   "id": "676eb4fc",
   "metadata": {},
   "source": [
    "    1.5. Comparison of methods"
   ]
  },
  {
   "cell_type": "markdown",
   "id": "2a2dceef",
   "metadata": {},
   "source": [
    "        1.5.1. For linear function"
   ]
  },
  {
   "cell_type": "code",
   "execution_count": null,
   "id": "14e1096d",
   "metadata": {},
   "outputs": [],
   "source": [
    "plt.figure()\n",
    "plt.title('For linear function')\n",
    "plt.plot(x_k, y_k, '.b', label = 'Data')\n",
    "plt.xlabel('X')\n",
    "plt.ylabel('Y')\n",
    "plt.plot(x_k, brute_force_lin[0]*x_k + brute_force_lin[1], 'g', label = 'Brute-Force Method', linewidth = 3)\n",
    "plt.plot(x_k, gauss_lin[0]*x_k + gauss_lin[1], 'y', label = 'Gauss Method', linewidth = 3)\n",
    "plt.plot(x_k, nm_lin[0]*x_k + nm_lin[1], 'r', label = 'Nelder-Mead Method', linewidth = 3)\n",
    "plt.legend(fontsize=12)"
   ]
  },
  {
   "cell_type": "markdown",
   "id": "20b585e5",
   "metadata": {},
   "source": [
    "        1.5.2. For rational function"
   ]
  },
  {
   "cell_type": "code",
   "execution_count": null,
   "id": "66afb1c4",
   "metadata": {},
   "outputs": [],
   "source": [
    "plt.figure()\n",
    "plt.title('For rational function')\n",
    "plt.plot(x_k, y_k, '.b', label = 'Data')\n",
    "plt.xlabel('X')\n",
    "plt.ylabel('Y')\n",
    "plt.plot(x_k, brute_force_rat[0]/(1+brute_force_rat[1]*x_k), 'g', label = 'Brute-Force Method', linewidth = 3)\n",
    "plt.plot(x_k, gauss_rat[0]/(1+gauss_rat[1]*x_k), 'y', label = 'Gauss Method', linewidth = 3)\n",
    "plt.plot(x_k, nm_rat[0]/(1+nm_rat[1]*x_k), 'r', label = 'Nelder-Mead Method', linewidth = 3)\n",
    "plt.legend(fontsize=12)"
   ]
  }
 ],
 "metadata": {
  "kernelspec": {
   "display_name": "Python 3 (ipykernel)",
   "language": "python",
   "name": "python3"
  },
  "language_info": {
   "codemirror_mode": {
    "name": "ipython",
    "version": 3
   },
   "file_extension": ".py",
   "mimetype": "text/x-python",
   "name": "python",
   "nbconvert_exporter": "python",
   "pygments_lexer": "ipython3",
   "version": "3.10.9"
  }
 },
 "nbformat": 4,
 "nbformat_minor": 5
}
