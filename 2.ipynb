{
 "cells": [
  {
   "cell_type": "markdown",
   "id": "12b95cf3",
   "metadata": {},
   "source": [
    "***Lab 2***"
   ]
  },
  {
   "cell_type": "code",
   "execution_count": 1,
   "id": "0729fe8c",
   "metadata": {},
   "outputs": [],
   "source": [
    "#Import needed tools\n",
    "import matplotlib.pyplot as plt\n",
    "import numpy as np\n",
    "import random\n",
    "from scipy.optimize import minimize"
   ]
  },
  {
   "cell_type": "markdown",
   "id": "089de997",
   "metadata": {},
   "source": [
    "**I. Use the one-dimensional methods of exhaustive search, dichotomy and golden section search to find an approximate (with precision 𝜀 = 0.001) solution 𝑥: 𝑓(𝑥) → 𝑚𝑖𝑛 for the following functions and domains:**\n",
    "\n",
    "**1.𝑓(𝑥) = 𝑥^3, 𝑥 ∈ [0, 1];**\n",
    "\n",
    "**2.𝑓(𝑥) = |𝑥 − 0.2|, 𝑥 ∈ [0, 1];**\n",
    "\n",
    "**3.𝑓(𝑥) = 𝑥 𝑠𝑖𝑛 (1/x), 𝑥 ∈ [0.01, 1].**\n",
    "\n",
    "**Calculate the number of 𝑓-calculations and the number of iterations performed in each method and analyze the results. Explain differences (if any) in the results obtained.**"
   ]
  },
  {
   "cell_type": "markdown",
   "id": "2d9a0965",
   "metadata": {},
   "source": [
    "1. Creating of functions"
   ]
  },
  {
   "cell_type": "markdown",
   "id": "e8bf5a11",
   "metadata": {},
   "source": [
    "    1.1. Functions of methods"
   ]
  },
  {
   "cell_type": "code",
   "execution_count": 2,
   "id": "0b9d63f5",
   "metadata": {},
   "outputs": [],
   "source": [
    "#1. Brute-Force (Exhaustive Search) Method\n",
    "def brute_force_method(func):\n",
    "    ans = []\n",
    "    number_of_iterations = 0\n",
    "    if str(func.__name__)=='sinus':\n",
    "        for i in range(0,1001):\n",
    "            number_of_iterations+=1\n",
    "            ans.append(func(0.99/1000*i+0.01))\n",
    "    else:\n",
    "        for i in range(0,1001):\n",
    "            number_of_iterations+=1\n",
    "            ans.append(func(i/1000))\n",
    "    return min(ans),len(ans),number_of_iterations"
   ]
  },
  {
   "cell_type": "code",
   "execution_count": 3,
   "id": "f833e5b1",
   "metadata": {},
   "outputs": [],
   "source": [
    "#2. Dichotomy Method\n",
    "def dichotomy_method(func,left,right):\n",
    "    beta = 0.0009\n",
    "    number_of_dots = 0\n",
    "    number_of_iterations = 0\n",
    "    while abs(left-right)>=0.001:\n",
    "        number_of_iterations+=1\n",
    "        number_of_dots+=2\n",
    "        x1 = (left+right-beta)/2\n",
    "        x2 = (left+right+beta)/2\n",
    "        if func(x1)<=func(x2):\n",
    "            right = x2\n",
    "        else:\n",
    "            left = x1\n",
    "    return func((left+right)/2),number_of_dots+1,number_of_iterations"
   ]
  },
  {
   "cell_type": "code",
   "execution_count": 4,
   "id": "f389f8be",
   "metadata": {},
   "outputs": [],
   "source": [
    "#3. Golden Section Method\n",
    "def golden_section_method(func,left,right):\n",
    "    number_of_dots = 0\n",
    "    number_of_iterations = 0\n",
    "    x1 = left+(3-np.sqrt(5))/2*(right-left)\n",
    "    x2 = right+(np.sqrt(5)-3)/2*(right-left)\n",
    "    while abs(left-right)>=0.001:\n",
    "        number_of_iterations+=1\n",
    "        number_of_dots+=1\n",
    "        if func(x1)<=func(x2):\n",
    "            right = x2\n",
    "            x2 = x1\n",
    "            x1 = left+(3-np.sqrt(5))/2*(right-left)\n",
    "        else:\n",
    "            left = x1\n",
    "            x1 = x2\n",
    "            x2 = right+(np.sqrt(5)-3)/2*(right-left) \n",
    "    return func((left+right)/2),number_of_dots+3,number_of_iterations"
   ]
  },
  {
   "cell_type": "markdown",
   "id": "566dbcaf",
   "metadata": {},
   "source": [
    "    1.2. Following functions"
   ]
  },
  {
   "cell_type": "code",
   "execution_count": 5,
   "id": "68424713",
   "metadata": {},
   "outputs": [],
   "source": [
    "#1. Cube function\n",
    "def cube(x):\n",
    "    return x**3"
   ]
  },
  {
   "cell_type": "code",
   "execution_count": 6,
   "id": "a189e538",
   "metadata": {},
   "outputs": [],
   "source": [
    "#2. Module function\n",
    "def module(x):\n",
    "    return abs(x-0.2)"
   ]
  },
  {
   "cell_type": "code",
   "execution_count": 7,
   "id": "6c07dc42",
   "metadata": {},
   "outputs": [],
   "source": [
    "#3. Sinus function\n",
    "def sinus(x):\n",
    "    return x*np.sin(1/x)"
   ]
  },
  {
   "cell_type": "markdown",
   "id": "9fb3254d",
   "metadata": {},
   "source": [
    "2. Finding minimum, F-calculations and N of iterations"
   ]
  },
  {
   "cell_type": "markdown",
   "id": "77c3ccac",
   "metadata": {},
   "source": [
    "    2.1. For Brute-Force Method"
   ]
  },
  {
   "cell_type": "code",
   "execution_count": 8,
   "id": "0f84de9b",
   "metadata": {},
   "outputs": [
    {
     "name": "stdout",
     "output_type": "stream",
     "text": [
      "(min, F-calculations, N of iterations)\n",
      "(0.0, 1001, 1001)\n",
      "(0.0, 1001, 1001)\n",
      "(-0.21722960129123117, 1001, 1001)\n"
     ]
    }
   ],
   "source": [
    "print('(min, F-calculations, N of iterations)')\n",
    "print(brute_force_method(cube))\n",
    "print(brute_force_method(module))\n",
    "print(brute_force_method(sinus))"
   ]
  },
  {
   "cell_type": "markdown",
   "id": "138ec70d",
   "metadata": {},
   "source": [
    "    2.2. For Dichotomy Method"
   ]
  },
  {
   "cell_type": "code",
   "execution_count": 9,
   "id": "3ecb348d",
   "metadata": {},
   "outputs": [
    {
     "name": "stdout",
     "output_type": "stream",
     "text": [
      "(min, F-calculations, N of iterations)\n",
      "(1.1093111164523245e-10, 29, 14)\n",
      "(7.785034179669248e-06, 29, 14)\n",
      "(-0.2172336224666543, 29, 14)\n"
     ]
    }
   ],
   "source": [
    "print('(min, F-calculations, N of iterations)')\n",
    "print(dichotomy_method(cube,0,1))\n",
    "print(dichotomy_method(module,0,1))\n",
    "print(dichotomy_method(sinus,0.01,1))"
   ]
  },
  {
   "cell_type": "markdown",
   "id": "6eae28fa",
   "metadata": {},
   "source": [
    "    2.3. For Golden Section Method"
   ]
  },
  {
   "cell_type": "code",
   "execution_count": 10,
   "id": "fdee14c4",
   "metadata": {},
   "outputs": [
    {
     "name": "stdout",
     "output_type": "stream",
     "text": [
      "(min, F-calculations, N of iterations)\n",
      "(4.9256800857728296e-11, 18, 15)\n",
      "(7.331374358568454e-05, 18, 15)\n",
      "(-0.21723232817753246, 18, 15)\n"
     ]
    }
   ],
   "source": [
    "print('(min, F-calculations, N of iterations)')\n",
    "print(golden_section_method(cube,0,1))\n",
    "print(golden_section_method(module,0,1))\n",
    "print(golden_section_method(sinus,0.01,1))"
   ]
  },
  {
   "cell_type": "markdown",
   "id": "d3bcdad9",
   "metadata": {},
   "source": [
    "**II. Generate random numbers 𝛼 ∈ (0,1) and 𝛽 ∈ (0,1). Furthermore, generate the noisy data {𝑥>, 𝑦>}, where 𝑘 = 0,…,100, according to the following rule:**\n",
    "\n",
    "**𝑦_k = 𝛼𝑥_k + 𝛽 + 𝛿_k, 𝑥_k = k/100,**\n",
    "\n",
    "**where 𝛿_k~𝑁(0,1) are values of a random variable with standard normal distribution. Approximate the data by the following linear and rational functions:**\n",
    "\n",
    "**1. 𝐹(𝑥, 𝑎, 𝑏) = 𝑎𝑥 + 𝑏 (linear approximant),**\n",
    "\n",
    "**2. 𝐹(𝑥, 𝑎, 𝑏) = 𝑎/(1+𝑏𝑥) (rational approximant),**\n",
    "\n",
    "**by means of least squares through the numerical minimization (with precision 𝜀 = 0.001) of the following function:**\n",
    "\n",
    "**𝐷(𝑎, 𝑏) =  sum(k=0, 100)((𝐹(𝑥_k, 𝑎, 𝑏) − 𝑦_k)^2)**\n",
    "\n",
    "**To solve the minimization problem, use the methods of exhaustive search, Gauss and Nelder-Mead. If necessary, set the initial approximations and other parameters of the methods. Visualize the data and the approximants obtained in a plot separately for each type of approximant so that one can compare the results for the numerical methods used. Analyze the results obtained (in terms of number of iterations, precision, number of function evaluations, etc.).**"
   ]
  },
  {
   "cell_type": "markdown",
   "id": "859ceef1",
   "metadata": {},
   "source": [
    "    1.0. Creating needed variables"
   ]
  },
  {
   "cell_type": "code",
   "execution_count": 11,
   "id": "7807713f",
   "metadata": {},
   "outputs": [],
   "source": [
    "#Initialization of X and Y dots coordinates\n",
    "alpha = random.uniform(0,1)\n",
    "beta = random.uniform(0,1)\n",
    "\n",
    "x_k = np.array([i/100 for i in range(0,101)])\n",
    "y_k = [alpha*i+beta+random.normalvariate(0.5,0.125) for i in x_k]"
   ]
  },
  {
   "cell_type": "markdown",
   "id": "67b0f534",
   "metadata": {},
   "source": [
    "    1.1. Least-squares Method"
   ]
  },
  {
   "cell_type": "code",
   "execution_count": 12,
   "id": "379e8868",
   "metadata": {},
   "outputs": [
    {
     "name": "stdout",
     "output_type": "stream",
     "text": [
      "[a,b] =  [0.4590480240614555, 0.9507455322975492]\n"
     ]
    },
    {
     "data": {
      "text/plain": [
       "[<matplotlib.lines.Line2D at 0x29940bd3520>]"
      ]
     },
     "execution_count": 12,
     "metadata": {},
     "output_type": "execute_result"
    },
    {
     "data": {
      "image/png": "[encoded data removed]",
      "text/plain": [
       "<Figure size 640x480 with 1 Axes>"
      ]
     },
     "metadata": {},
     "output_type": "display_data"
    }
   ],
   "source": [
    "X = np.vstack([x_k, np.ones(len(x_k))]).T\n",
    "a,b = np.linalg.lstsq(X, y_k, rcond=None)[0]\n",
    "\n",
    "print('[a,b] = ',[a,b])\n",
    "\n",
    "plt.scatter(x_k, y_k)\n",
    "plt.plot(x_k, a*x_k+b, 'r')"
   ]
  },
  {
   "cell_type": "markdown",
   "id": "4baba0f8",
   "metadata": {},
   "source": [
    "    1.2. Brute-Force Method"
   ]
  },
  {
   "cell_type": "markdown",
   "id": "6f363dc0",
   "metadata": {},
   "source": [
    "        1.2.1. For linear function"
   ]
  },
  {
   "cell_type": "code",
   "execution_count": null,
   "id": "5fafeadb",
   "metadata": {},
   "outputs": [],
   "source": [
    "lin_ans = []\n",
    "for a in range(0,1001):\n",
    "    a/=1000\n",
    "    for b in range(0,1001):\n",
    "        b/=1000\n",
    "        dot_number = 0\n",
    "        for k in range(0,101):\n",
    "            dot_number+=(a*x_k[k]+b-y_k[k])**2\n",
    "        lin_ans.append([dot_number,a,b])\n",
    "\n",
    "minimum = min(i[0] for i in lin_ans)\n",
    "for elem in lin_ans:\n",
    "    if elem[0]==minimum:\n",
    "        a = elem[1]\n",
    "        b = elem[2]\n",
    "        break\n",
    "\n",
    "print('[a,b,F-calculation,N of iterations] = ',[a,b,(1001**2),(1001**2)])\n",
    "\n",
    "brute_force_lin = [a,b]\n",
    "\n",
    "plt.scatter(x_k, y_k)\n",
    "plt.plot(x_k, a*x_k+b, 'r')"
   ]
  },
  {
   "cell_type": "markdown",
   "id": "4a350d25",
   "metadata": {},
   "source": [
    "        1.2.2. For rational function"
   ]
  },
  {
   "cell_type": "code",
   "execution_count": null,
   "id": "f02f7136",
   "metadata": {},
   "outputs": [],
   "source": [
    "rat_ans = []\n",
    "for a in range(0,1001):\n",
    "    a/=1000\n",
    "    for b in range(0,1001):\n",
    "        b = -b/1000\n",
    "        dot_number = 0\n",
    "        for k in range(0,101):\n",
    "            dot_number+=(a/(1+b*x_k[k])-y_k[k])**2\n",
    "        rat_ans.append([dot_number,a,b])\n",
    "\n",
    "minimum = min(i[0] for i in rat_ans)\n",
    "for elem in rat_ans:\n",
    "    if elem[0]==minimum:\n",
    "        a = elem[1]\n",
    "        b = elem[2]\n",
    "        break\n",
    "        \n",
    "print('[a,b,F-calculation,N of iterations] = ',[a,b,(1000**2),(1000**2)])\n",
    "\n",
    "brute_force_rat = [a,b]\n",
    "\n",
    "plt.scatter(x_k, y_k)\n",
    "plt.plot(x_k, a/(1+b*x_k), 'r')"
   ]
  },
  {
   "cell_type": "markdown",
   "id": "b526fcd5",
   "metadata": {},
   "source": [
    "    1.3. Gauss (Coordinate Descent) Method"
   ]
  },
  {
   "cell_type": "markdown",
   "id": "68007b4b",
   "metadata": {},
   "source": [
    "        1.3.1. For linear function"
   ]
  },
  {
   "cell_type": "code",
   "execution_count": null,
   "id": "fd118a08",
   "metadata": {},
   "outputs": [],
   "source": [
    "a1 = 0.05\n",
    "b1 = 0.05\n",
    "b1_temp = 10000\n",
    "number_of_iterations = 0\n",
    "number_of_dots = 0\n",
    "while True:\n",
    "    number_of_iterations+=2\n",
    "    ans_a = []\n",
    "    for a in range(0,1001):\n",
    "        number_of_dots+=1\n",
    "        a/=1000\n",
    "        dot_number = 0\n",
    "        for k in range(0,101):\n",
    "            dot_number+=(a*x_k[k]+b1-y_k[k])**2\n",
    "        ans_a.append(dot_number)\n",
    "    a1_temp = ans_a.index(min(ans_a))/1000\n",
    "    if abs(a1 - a1_temp) < 0.001 and abs(b1 - b1_temp) < 0.001:\n",
    "        break\n",
    "    a1 = a1_temp\n",
    "    \n",
    "    \n",
    "    ans_b = []\n",
    "    for a in range(0,1001):\n",
    "        number_of_dots+=1\n",
    "        b/=1000\n",
    "        dot_number = 0\n",
    "        for k in range(0,101):\n",
    "            dot_number+=(a1*x_k[k]+b-y_k[k])**2\n",
    "        ans_b.append(dot_number)\n",
    "    b1_temp = ans_b.index(min(ans_b))/1000\n",
    "    if abs(b1 - b1_temp) < 0.001 and abs(a1 - a1_temp) < 0.001:\n",
    "        break\n",
    "    b1 = b1_temp\n",
    "\n",
    "print('[a,b,F-calculation,N of iterations] = ',[a1,b1,number_of_dots,number_of_iterations])\n",
    "    \n",
    "gauss_lin = [a1,b1]\n",
    "\n",
    "plt.scatter(x_k, y_k)\n",
    "plt.plot(x_k, a1*x_k+b1, 'r')"
   ]
  },
  {
   "cell_type": "markdown",
   "id": "5bf5c1df",
   "metadata": {},
   "source": [
    "        1.3.2. For rational function"
   ]
  },
  {
   "cell_type": "code",
   "execution_count": null,
   "id": "96e30ad9",
   "metadata": {},
   "outputs": [],
   "source": [
    "a1 = 0.05\n",
    "b1 = -0.05\n",
    "b1_temp = 10000\n",
    "number_of_iterations = 0\n",
    "number_of_dots = 0\n",
    "while True:\n",
    "    number_of_iterations+=2\n",
    "    ans_a = []\n",
    "    for a in range(0, 1000):\n",
    "        number_of_dots += 1\n",
    "        a/=1000\n",
    "        dot_number = 0\n",
    "        for k in range(0, 101):\n",
    "            dot_number += (a/(1+b1*x_k[k])-y_k[k])**2\n",
    "        ans_a.append(dot_number)\n",
    "    a1_temp = ans_a.index(min(ans_a))/1000\n",
    "    if abs(a1 - a1_temp) < 0.001 and abs(b1 - b1_temp) < 0.001:\n",
    "        break\n",
    "    a1 = a1_temp\n",
    "\n",
    "    ans_b = []\n",
    "    for b in range(0, 1000):\n",
    "        number_of_dots+=1\n",
    "        b = -b/1000\n",
    "        dot_number = 0\n",
    "        for k in range(0, 101):\n",
    "            dot_number += (a1/(1+b*x_k[k])-y_k[k])**2\n",
    "        ans_b.append(dot_number)\n",
    "    b1_temp = ans_b.index(min(ans_b))/-1000\n",
    "    if abs(b1 - b1_temp) < 0.001 and abs(a1 - a1_temp) < 0.001:\n",
    "        break\n",
    "    b1 = b1_temp\n",
    "    \n",
    "print('[a, b, f-calculations, N of iterations] =',[a1, b1, f_calc, number_of_iterations])\n",
    "\n",
    "gauss_rat = [a1,b1]\n",
    "plt.scatter(x_k,y_k)\n",
    "plt.plot(x_k, a1/(1+b1*x_k), 'r')"
   ]
  },
  {
   "cell_type": "markdown",
   "id": "246a001b",
   "metadata": {},
   "source": [
    "    1.4. Nelder-Mead Method"
   ]
  },
  {
   "cell_type": "markdown",
   "id": "94362e57",
   "metadata": {},
   "source": [
    "        1.4.1. For linear function"
   ]
  },
  {
   "cell_type": "code",
   "execution_count": null,
   "id": "d54d1c14",
   "metadata": {},
   "outputs": [],
   "source": [
    "def lin_func(data):\n",
    "    a,b = data\n",
    "    ans = 0\n",
    "    for k in range(0,101):\n",
    "        ans+=(a*x_k[k]+b-y_k[k])**2\n",
    "    return ans\n",
    "\n",
    "res = minimize(lin_func,[0.3, 0.3], method = 'nelder-mead', options = {'xatol': 0.001, 'disp': True})\n",
    "nm_lin = res.x\n",
    "\n",
    "print('[a,b] = ',res.x)\n",
    "\n",
    "plt.scatter(x_k, y_k)\n",
    "plt.plot(x_k, res.x[0] * x_k + res.x[1],'r')"
   ]
  },
  {
   "cell_type": "markdown",
   "id": "7c0e04ee",
   "metadata": {},
   "source": [
    "        1.4.2. For rational function"
   ]
  },
  {
   "cell_type": "code",
   "execution_count": null,
   "id": "dd82aee3",
   "metadata": {},
   "outputs": [],
   "source": [
    "def rat_func(data):\n",
    "    a,b = data\n",
    "    ans = 0\n",
    "    for k in range(0,101):\n",
    "        ans+=(a/(1+b*x_k[k])-y_k[k])**2\n",
    "    return ans\n",
    "\n",
    "res = minimize(rat_func,[0.3, 0.3], method = 'nelder-mead', options = {'xatol': 0.001, 'disp': True})\n",
    "nm_rat = res.x\n",
    "\n",
    "print('[a,b] = ',res.x)\n",
    "\n",
    "plt.scatter(x_k, y_k)\n",
    "plt.plot(x_k, res.x[0] / (1 + res.x[1] * x_k),'r')"
   ]
  },
  {
   "cell_type": "markdown",
   "id": "bc33be97",
   "metadata": {},
   "source": [
    "    1.5. Comparison of methods"
   ]
  },
  {
   "cell_type": "markdown",
   "id": "e44a3e1a",
   "metadata": {},
   "source": [
    "        1.5.1. For linear function"
   ]
  },
  {
   "cell_type": "code",
   "execution_count": null,
   "id": "c463eadc",
   "metadata": {},
   "outputs": [],
   "source": [
    "plt.figure()\n",
    "plt.title('For linear function')\n",
    "plt.plot(x_k, y_k, '.b', label = 'Data')\n",
    "plt.xlabel('X')\n",
    "plt.ylabel('Y')\n",
    "plt.plot(x_k, brute_force_lin[0]*x_k + brute_force_lin[1], 'g', label = 'Brute-Force Method', linewidth = 3)\n",
    "plt.plot(x_k, gauss_lin[0]*x_k + gauss_lin[1], 'y', label = 'Gauss Method', linewidth = 3)\n",
    "plt.plot(x_k, nm_lin[0]*x_k + nm_lin[1], 'r', label = 'Nelder-Mead Method', linewidth = 3)\n",
    "plt.legend(fontsize=12)"
   ]
  },
  {
   "cell_type": "markdown",
   "id": "f681a76a",
   "metadata": {},
   "source": [
    "        1.5.2. For rational function"
   ]
  },
  {
   "cell_type": "code",
   "execution_count": null,
   "id": "0656b240",
   "metadata": {},
   "outputs": [],
   "source": [
    "plt.figure()\n",
    "plt.title('For rational function')\n",
    "plt.plot(x_k, y_k, '.b', label = 'Data')\n",
    "plt.xlabel('X')\n",
    "plt.ylabel('Y')\n",
    "#plt.plot(x_k, brute_force_rat[0]/(1+brute_force_rat[1]*x_k), 'g', label = 'Brute-Force Method', linewidth = 3)\n",
    "plt.plot(x_k, gauss_rat[0]/(1+gauss_rat[1]*x_k), 'y', label = 'Gauss Method', linewidth = 3)\n",
    "plt.plot(x_k, nm_rat[0]/(1+nm_rat[1]*x_k), 'r', label = 'Nelder-Mead Method', linewidth = 3)\n",
    "plt.legend(fontsize=12)"
   ]
  },
  {
   "cell_type": "code",
   "execution_count": null,
   "id": "b0f7884e",
   "metadata": {},
   "outputs": [],
   "source": []
  }
 ],
 "metadata": {
  "kernelspec": {
   "display_name": "Python 3 (ipykernel)",
   "language": "python",
   "name": "python3"
  },
  "language_info": {
   "codemirror_mode": {
    "name": "ipython",
    "version": 3
   },
   "file_extension": ".py",
   "mimetype": "text/x-python",
   "name": "python",
   "nbconvert_exporter": "python",
   "pygments_lexer": "ipython3",
   "version": "3.10.9"
  }
 },
 "nbformat": 4,
 "nbformat_minor": 5
}
