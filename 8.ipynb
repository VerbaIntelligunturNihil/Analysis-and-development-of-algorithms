{
 "cells": [
  {
   "cell_type": "markdown",
   "id": "1880f3f9",
   "metadata": {},
   "source": [
    "***Lab 8***"
   ]
  },
  {
   "cell_type": "code",
   "execution_count": null,
   "id": "add8fe11",
   "metadata": {},
   "outputs": [],
   "source": [
    "#Import needed tools\n",
    "import numpy as np\n",
    "import networkx as nx\n",
    "import matplotlib.pyplot as plt\n",
    "import random as r\n",
    "from collections import defaultdict\n",
    "import scipy.sparse as sp"
   ]
  },
  {
   "cell_type": "markdown",
   "id": "f9f67e74",
   "metadata": {},
   "source": [
    "**0.Create graph**"
   ]
  },
  {
   "cell_type": "markdown",
   "id": "7b2cba1e",
   "metadata": {},
   "source": [
    "    0.0. Create needed variables"
   ]
  },
  {
   "cell_type": "code",
   "execution_count": null,
   "id": "d24b58a5",
   "metadata": {},
   "outputs": [],
   "source": [
    "n_V = 100\n",
    "n_E = 500\n",
    "n = n_E"
   ]
  },
  {
   "cell_type": "markdown",
   "id": "0e930fb4",
   "metadata": {},
   "source": [
    "    0.1. Generate adjacency matrix"
   ]
  },
  {
   "cell_type": "code",
   "execution_count": null,
   "id": "cc790cb9",
   "metadata": {},
   "outputs": [],
   "source": [
    "adj_matrix = np.zeros((n_V, n_V))\n",
    "\n",
    "while n != 0:\n",
    "    i, j = np.random.randint(0, 99), np.random.randint(0, 99)\n",
    "    if i != j and adj_matrix[i, j] == 0:\n",
    "        weight = np.random.randint(0, 99)\n",
    "        adj_matrix[i, j], adj_matrix[j, i] = weight, weight\n",
    "        n -= 1\n",
    "\n",
    "print(f'Shape: {adj_matrix.shape}, weight sum: {np.sum(adj_matrix)}')"
   ]
  },
  {
   "cell_type": "markdown",
   "id": "6b76233a",
   "metadata": {},
   "source": [
    "    0.2. Transfer the matrix into an adjacency list"
   ]
  },
  {
   "cell_type": "code",
   "execution_count": null,
   "id": "255c354f",
   "metadata": {},
   "outputs": [],
   "source": [
    "adj_list = {i: [] for i in range(n_V)}\n",
    "for k, v in adj_list.items():\n",
    "    for i in range(n_V):\n",
    "        if adj_matrix[k, i] != 0:\n",
    "            adj_list[k].append([i, adj_matrix[k, i]])\n",
    "        else:\n",
    "            next"
   ]
  },
  {
   "cell_type": "markdown",
   "id": "35b9c54b",
   "metadata": {},
   "source": [
    "    0.3. Visualize the graph"
   ]
  },
  {
   "cell_type": "code",
   "execution_count": null,
   "id": "c1d94b56",
   "metadata": {
    "scrolled": false
   },
   "outputs": [],
   "source": [
    "def get_matrix_triad(coo_matrix , data=False):\n",
    "    if not sp.isspmatrix_coo(coo_matrix):\n",
    "        coo_matrix = sp.coo_matrix(coo_matrix)\n",
    "    temp = np.vstack((coo_matrix.row , coo_matrix.col , coo_matrix.data)).transpose()\n",
    "    return temp.tolist()\n",
    "\n",
    "edags = get_matrix_triad(adj_matrix)\n",
    "\n",
    "G = nx.Graph()\n",
    "H = nx.path_graph(adj_matrix.shape[0])\n",
    "G.add_nodes_from(H)\n",
    "G.add_weighted_edges_from(edags)\n",
    "colors = np.arange(adj_matrix.shape[0])\n",
    "edges, weights = zip(*nx.get_edge_attributes(G,'weight').items())\n",
    "nx.draw_networkx(G,pos=nx.random_layout(G),node_color='b', node_size = 20, edgelist=edges, edge_color=weights, width=1.0, edge_cmap=plt.cm.viridis)\n",
    "plt.show()"
   ]
  },
  {
   "cell_type": "markdown",
   "id": "6f7b9670",
   "metadata": {},
   "source": [
    "**I. Choose two algorithms (interesting to you and not considered in the course)\n",
    "from the above-mentioned book sections.**\n",
    "\n",
    "**II. Analyse the chosen algorithms in terms of time and space complexity, design technique used, etc. Implement the algorithms and produce several experiments. Analyse the results.**"
   ]
  },
  {
   "cell_type": "markdown",
   "id": "45446ab1",
   "metadata": {},
   "source": [
    "    1.1. Floyd–Warshall algorithm"
   ]
  },
  {
   "cell_type": "code",
   "execution_count": null,
   "id": "e028c2b3",
   "metadata": {
    "scrolled": false
   },
   "outputs": [],
   "source": [
    "Floyd_paths = nx.algorithms.shortest_paths.floyd_warshall(G, 'weight')\n",
    "print('Floyd–Warshall algorithm result for the 39th node: \\n'  + str(Floyd_paths[39]))\n",
    "print('\\Floyd–Warshall algorithm can show the shortest path between 39th and 73th nodes: \\n'  + str(Floyd_paths[39][73]))\n",
    "print('\\nOr the path between any other nodes, for example between 3st and 21th: \\n'  + str(Floyd_paths[3][21]))"
   ]
  },
  {
   "cell_type": "markdown",
   "id": "0ec589e1",
   "metadata": {},
   "source": [
    "    1.2. Johnson alghorithm"
   ]
  },
  {
   "cell_type": "code",
   "execution_count": null,
   "id": "eba28d83",
   "metadata": {
    "scrolled": false
   },
   "outputs": [],
   "source": [
    "#Johnson algorithm test\n",
    "Johnson_paths = nx.algorithms.shortest_paths.johnson(G, 'weight')\n",
    "print('Johnson algorithm result for the 39th node: \\n'  + str(Johnson_paths[39]))\n",
    "print('\\nJohnson algorithm can show the shortest path between 39th and 73th nodes: \\n'  + str(Johnson_paths[39][73]))\n",
    "print('\\nOr the path between any other nodes, for example between 3st and 21th: \\n'  + str(Johnson_paths[3][21]))"
   ]
  },
  {
   "cell_type": "markdown",
   "id": "6e627c42",
   "metadata": {},
   "source": [
    "    1.3. Time calculation"
   ]
  },
  {
   "cell_type": "markdown",
   "id": "0e2285d9",
   "metadata": {},
   "source": [
    "    1.3.1. For Floyd–Warshall algorithm"
   ]
  },
  {
   "cell_type": "code",
   "execution_count": null,
   "id": "3c2912c1",
   "metadata": {},
   "outputs": [],
   "source": [
    "import timeit\n",
    "from scipy.optimize import curve_fit\n",
    "\n",
    "def fw_timestamps(n_runs, n_experiments):\n",
    "    timestamps = []\n",
    "    for runs in range(n_runs):\n",
    "        timestamps.append([])\n",
    "        for experiments in range(5, n_experiments + 1):\n",
    "            \n",
    "            matrix=np.zeros((experiments, experiments))\n",
    "            n = experiments * 5\n",
    "\n",
    "            while n > 0:\n",
    "                i = r.randint(0,experiments-1)\n",
    "                j = r.randint(0,experiments-1)\n",
    "                if i != j and matrix[i,j] != 1:\n",
    "                    numb = r.randint(1,100)\n",
    "                    matrix[i,j]=numb\n",
    "                    matrix[j,i]=numb\n",
    "                    n -= 1\n",
    "\n",
    "            adjlist = defaultdict(list)\n",
    "            edges = set()\n",
    "            for i, v in enumerate(matrix, 1):\n",
    "                for j, u in enumerate(v, 1):\n",
    "                    if u != 0 and frozenset([i, j]) not in edges:\n",
    "                        edges.add(frozenset([i, j]))\n",
    "                        adjlist[i].append(j)\n",
    "\n",
    "            def get_matrix_triad(coo_matrix , data=False):\n",
    "                if not sp.isspmatrix_coo(coo_matrix):\n",
    "                    coo_matrix = sp.coo_matrix(coo_matrix)\n",
    "                temp = np.vstack((coo_matrix.row , coo_matrix.col , coo_matrix.data)).transpose()\n",
    "                return temp.tolist()\n",
    "            edags = get_matrix_triad(matrix)\n",
    "            \n",
    "            G = nx.Graph()\n",
    "            H = nx.path_graph(matrix.shape[0])\n",
    "            G.add_nodes_from(H)\n",
    "            G.add_weighted_edges_from(edags)\n",
    "\n",
    "            start_time = timeit.default_timer()\n",
    "            nx.algorithms.shortest_paths.floyd_warshall(G, 'weight')\n",
    "            timestamps[runs].append(timeit.default_timer() - start_time)\n",
    "    timestamps_mean = np.array(timestamps, dtype=np.float64).mean(axis=0)\n",
    "    return timestamps_mean\n",
    "\n",
    "def cubic_function(x, a):\n",
    "    return a * x ** 3\n",
    "\n",
    "avg_time = fw_timestamps(5, 100)\n",
    "\n",
    "xdata = np.arange(5, len(avg_time)+5, dtype=np.float64)\n",
    "ydata = np.array(avg_time, dtype=np.float64)\n",
    "popt, pcov = curve_fit(cubic_function, xdata, ydata)\n",
    "\n",
    "plt.figure(figsize=(10,7))\n",
    "plt.plot(avg_time, linewidth=2)\n",
    "plt.title(\"Floyd-Warshall algorithm time complexity: x^3\", fontsize=14)\n",
    "plt.plot(xdata-5, cubic_function(xdata, *popt), 'r', linewidth=2)\n",
    "plt.legend([\"Experimental\", \"Theoretical\"], fontsize=14)\n",
    "plt.show()"
   ]
  },
  {
   "cell_type": "markdown",
   "id": "f658c01e",
   "metadata": {},
   "source": [
    "    1.3.2. For Johnson alghorithm"
   ]
  },
  {
   "cell_type": "code",
   "execution_count": null,
   "id": "b1f85f83",
   "metadata": {},
   "outputs": [],
   "source": [
    "def johnson_timestamps(n_runs, n_experiments):\n",
    "    timestamps = []\n",
    "    for runs in range(n_runs):\n",
    "        timestamps.append([])\n",
    "        for experiments in range(5, n_experiments + 1):\n",
    "            \n",
    "            matrix=np.zeros((experiments, experiments))\n",
    "            n = experiments * 5\n",
    "\n",
    "            while n > 0:\n",
    "                i = r.randint(0,experiments-1)\n",
    "                j = r.randint(0,experiments-1)\n",
    "                if i != j and matrix[i,j] != 1:\n",
    "                    numb = r.randint(1,100)\n",
    "                    matrix[i,j]=numb\n",
    "                    matrix[j,i]=numb\n",
    "                    n -= 1\n",
    "\n",
    "            adjlist = defaultdict(list)\n",
    "            edges = set()\n",
    "            for i, v in enumerate(matrix, 1):\n",
    "                for j, u in enumerate(v, 1):\n",
    "                    if u != 0 and frozenset([i, j]) not in edges:\n",
    "                        edges.add(frozenset([i, j]))\n",
    "                        adjlist[i].append(j)\n",
    "\n",
    "            def get_matrix_triad(coo_matrix , data=False):\n",
    "                if not sp.isspmatrix_coo(coo_matrix):\n",
    "                    coo_matrix = sp.coo_matrix(coo_matrix)\n",
    "                temp = np.vstack((coo_matrix.row , coo_matrix.col , coo_matrix.data)).transpose()\n",
    "                return temp.tolist()\n",
    "            edags = get_matrix_triad(matrix)\n",
    "            \n",
    "            G = nx.Graph()\n",
    "            H = nx.path_graph(matrix.shape[0])\n",
    "            G.add_nodes_from(H)\n",
    "            G.add_weighted_edges_from(edags)\n",
    "\n",
    "            start_time = timeit.default_timer()\n",
    "            nx.algorithms.shortest_paths.johnson(G, 'weight')\n",
    "            timestamps[runs].append(timeit.default_timer() - start_time)\n",
    "    timestamps_mean = np.array(timestamps, dtype=np.float64).mean(axis=0)\n",
    "    return timestamps_mean\n",
    "\n",
    "def special_function(x, a):\n",
    "    return a * (x ** 2 * np.log(x) + x * 5 * x)\n",
    "\n",
    "avg_time = johnson_timestamps(5, 100)\n",
    "\n",
    "xdata = np.arange(5, len(avg_time)+5, dtype=np.float64)\n",
    "ydata = np.array(avg_time, dtype=np.float64)\n",
    "popt, pcov = curve_fit(special_function, xdata, ydata)\n",
    "\n",
    "plt.figure(figsize=(10,7))\n",
    "plt.plot(avg_time, linewidth=2)\n",
    "plt.title(\"Johnson algorithm time complexity: x^2 * log(x) + x * 5 * x\", fontsize=14)\n",
    "plt.plot(xdata-3, special_function(xdata, *popt), 'r', linewidth=2)\n",
    "plt.legend([\"Experimental\", \"Theoretical\"], fontsize=14)\n",
    "plt.show()"
   ]
  }
 ],
 "metadata": {
  "kernelspec": {
   "display_name": "Python 3 (ipykernel)",
   "language": "python",
   "name": "python3"
  },
  "language_info": {
   "codemirror_mode": {
    "name": "ipython",
    "version": 3
   },
   "file_extension": ".py",
   "mimetype": "text/x-python",
   "name": "python",
   "nbconvert_exporter": "python",
   "pygments_lexer": "ipython3",
   "version": "3.10.9"
  }
 },
 "nbformat": 4,
 "nbformat_minor": 5
}
