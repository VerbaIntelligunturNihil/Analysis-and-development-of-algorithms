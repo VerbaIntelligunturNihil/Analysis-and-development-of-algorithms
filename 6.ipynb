{
 "cells": [
  {
   "cell_type": "markdown",
   "id": "1880f3f9",
   "metadata": {},
   "source": [
    "***Lab 6***"
   ]
  },
  {
   "cell_type": "code",
   "execution_count": null,
   "id": "fab6596f",
   "metadata": {},
   "outputs": [],
   "source": [
    "#Import needed tools\n",
    "import numpy as np\n",
    "import matplotlib.pyplot as plt\n",
    "import math\n",
    "import time\n",
    "import networkx as nx\n",
    "import collections"
   ]
  },
  {
   "cell_type": "markdown",
   "id": "4978ae28",
   "metadata": {},
   "source": [
    "**I. Generate a random adjacency matrix for a simple undirected weighted graph of 100 vertices and 500 edges with assigned random positive integer weights (note that the matrix should be symmetric and contain only 0s and weights as elements). Use Dijkstra's and Bellman-Ford algorithms to find shortest paths between a random starting vertex and other vertices. Measure the time required to find the paths for each algorithm. Repeat the experiment 10 times for the same starting vertex and calculate the average time required for the paths search of each algorithm. Analyse the results obtained.**"
   ]
  },
  {
   "cell_type": "markdown",
   "id": "23d68dd8",
   "metadata": {},
   "source": [
    "    1.0. Create needed variables"
   ]
  },
  {
   "cell_type": "code",
   "execution_count": null,
   "id": "6f137a84",
   "metadata": {},
   "outputs": [],
   "source": [
    "n_V = 100\n",
    "n_E = 500\n",
    "n = n_E"
   ]
  },
  {
   "cell_type": "markdown",
   "id": "3b3a83ce",
   "metadata": {},
   "source": [
    "    1.1. Generate adjacency matrix"
   ]
  },
  {
   "cell_type": "code",
   "execution_count": null,
   "id": "aba63d26",
   "metadata": {},
   "outputs": [],
   "source": [
    "adj_matrix = np.zeros((n_V, n_V))\n",
    "\n",
    "while n != 0:\n",
    "    i, j = np.random.randint(0, 99), np.random.randint(0, 99)\n",
    "    if i != j and adj_matrix[i, j] == 0:\n",
    "        weight = np.random.randint(0, 99)\n",
    "        adj_matrix[i, j], adj_matrix[j, i] = weight, weight\n",
    "        n -= 1\n",
    "\n",
    "print(f'Shape: {adj_matrix.shape}, weight sum: {np.sum(adj_matrix)}')"
   ]
  },
  {
   "cell_type": "markdown",
   "id": "ff057b24",
   "metadata": {},
   "source": [
    "    1.2. Transfer the matrix into an adjacency list"
   ]
  },
  {
   "cell_type": "code",
   "execution_count": null,
   "id": "85e3bfe8",
   "metadata": {},
   "outputs": [],
   "source": [
    "adj_list = {i: [] for i in range(n_V)}\n",
    "for k, v in adj_list.items():\n",
    "    for i in range(n_V):\n",
    "        if adj_matrix[k, i] != 0:\n",
    "            adj_list[k].append([i, adj_matrix[k, i]])\n",
    "        else:\n",
    "            next"
   ]
  },
  {
   "cell_type": "markdown",
   "id": "81a0cee0",
   "metadata": {},
   "source": [
    "    1.3. Visualize the graph"
   ]
  },
  {
   "cell_type": "code",
   "execution_count": null,
   "id": "548899c2",
   "metadata": {},
   "outputs": [],
   "source": [
    "class My_Graph:\n",
    "    def __init__(self, temp, vertices):\n",
    "        self.V = vertices\n",
    "        self.graph = temp\n",
    "    \n",
    "    def timer(func):\n",
    "        def wrapper(*args, **kwargs):\n",
    "            before = time.time()\n",
    "            func(*args, **kwargs)\n",
    "            time_check = time.time() - before\n",
    "            print(f'\\nThe algorithm took: {time_check} seconds')\n",
    "            return time_check\n",
    "        return wrapper\n",
    "    \n",
    "    def dist_print(self, dist, src):\n",
    "        print(f'Vertex Distance from starting node {src}')\n",
    "        for i in range(len(dist)):\n",
    "            print(f'{i}\\t\\t{dist[i]}')\n",
    "    \n",
    "    def visualize(self):\n",
    "        G = nx.Graph()\n",
    "        plt.figure(figsize=(20,15))\n",
    "        plt.title(f'My random graph with {n_V} vertices and {n_E} edges',\n",
    "                  fontsize=25)\n",
    "        visualize = [i[0:2] for i in self.graph]\n",
    "        G.add_edges_from(visualize)\n",
    "        nx.draw_networkx(G)\n",
    "        plt.show()\n",
    "    \n",
    "    @ timer\n",
    "    def BF(self, src, show=True):\n",
    "        dist = np.array([math.inf for i in range(self.V)])\n",
    "        dist[src] = 0\n",
    "\n",
    "        for _ in range(self.V - 1):\n",
    "            for u, v, w in self.graph:\n",
    "                if dist[u] != math.inf and dist[u] + w < dist[v]:\n",
    "                    dist[v] = dist[u] + w\n",
    "        \n",
    "        for u, v, w in self.graph:\n",
    "            if dist[u] != math.inf and dist[u] + w < dist[v]:\n",
    "                print('There is a negative weight cycle in current graph')\n",
    "                return\n",
    "        \n",
    "        if show == True:\n",
    "            self.dist_print(dist, src)\n",
    "    \n",
    "    @ timer\n",
    "    def Dijkstra(self, src, show=True):\n",
    "        G = nx.Graph()\n",
    "        G.add_nodes_from(list(set([i[0] for i in self.graph])))\n",
    "        G.add_weighted_edges_from([i for i in self.graph])\n",
    "        \n",
    "        distances = nx.single_source_dijkstra(G, src)[0]\n",
    "        \n",
    "        sorted_distances = collections.OrderedDict(sorted(distances.items()))\n",
    "        dist_list = [sorted_distances[i] for i in range(len(sorted_distances)) ]\n",
    "        \n",
    "        if show == True:\n",
    "            self.dist_print(dist_list, src)"
   ]
  },
  {
   "cell_type": "code",
   "execution_count": null,
   "id": "213886a7",
   "metadata": {},
   "outputs": [],
   "source": [
    "data = []\n",
    "for k, v in adj_list.items():\n",
    "    data.extend([[k, i[0], i[1]] for i in v])\n",
    "ans = My_Graph(data, n_V)"
   ]
  },
  {
   "cell_type": "code",
   "execution_count": null,
   "id": "cc31985a",
   "metadata": {},
   "outputs": [],
   "source": [
    "ans.visualize()"
   ]
  },
  {
   "cell_type": "markdown",
   "id": "6b41cd8f",
   "metadata": {},
   "source": [
    "    1.4. Time calculation"
   ]
  },
  {
   "cell_type": "code",
   "execution_count": null,
   "id": "8e7f0f0c",
   "metadata": {},
   "outputs": [],
   "source": [
    "time_list_BF = []\n",
    "\n",
    "for i in range(10):\n",
    "    np.random.seed(1)\n",
    "    src = np.random.randint(0, 99)\n",
    "    time_lst_BF.append(ans.BF(src, show=False))\n",
    "    \n",
    "print('')\n",
    "print(f'Average time for BF algorithm - {sum(time_lst_BF)/len(time_lst_BF)} seconds!')\n",
    "print('')\n",
    "    \n",
    "time_list_DJ = []\n",
    "\n",
    "for i in range(10):\n",
    "    np.random.seed(1)\n",
    "    src = np.random.randint(0, 99)\n",
    "    time_list_DJ.append(ans.Dijkstra(src, show=False))\n",
    "    \n",
    "print('')\n",
    "print(f'Average time for Dijkstra algorithm - {sum(time_list_DJ)/len(time_list_DJ)} seconds!')\n",
    "print('')"
   ]
  },
  {
   "cell_type": "markdown",
   "id": "e1296239",
   "metadata": {},
   "source": [
    "**II. Generate a 10x20 cell grid with 40 obstacle cells. Choose two random nonobstacle cells and find a shortest path between them using A*** **algorithm. Repeat the experiment 5 times with different random pair of cells. Analyse the results obtained.**"
   ]
  },
  {
   "cell_type": "markdown",
   "id": "b5833629",
   "metadata": {},
   "source": [
    "    2.1. Create and visualize the cell grid"
   ]
  },
  {
   "cell_type": "code",
   "execution_count": null,
   "id": "e34ec319",
   "metadata": {},
   "outputs": [],
   "source": [
    "graph = nx.grid_2d_graph(10, 20)\n",
    "\n",
    "for edge in graph.edges:\n",
    "    graph.edges[edge]['weight'] = 1\n",
    "\n",
    "graph.add_edges_from([((x, y), (x+1, y+1)) \n",
    "                  for x in range(9) \n",
    "                  for y in range(19)] + \n",
    "                 [((x+1, y), (x, y+1))\n",
    "                  for x in range(9)\n",
    "                  for y in range(19)], weight=1.4)\n",
    "\n",
    "pos = nx.spring_layout(graph, iterations=1000, seed=41)\n",
    "nx.draw_networkx(graph, pos, node_size=5, with_labels=False)\n",
    "plt.show()\n",
    "\n",
    "removed = []\n",
    "while (len(removed) != 40):\n",
    "    point = (np.random.randint(0,9), np.random.randint(0,19))\n",
    "    if point not in removed:\n",
    "        removed.append(point)\n",
    "\n",
    "graph.remove_nodes_from(removed)\n",
    "print(\"Obstacle cells\", removed)\n",
    "\n",
    "nx.draw_networkx(graph, pos, node_size=5, with_labels=False)\n",
    "plt.show()"
   ]
  },
  {
   "cell_type": "markdown",
   "id": "9ac4a01a",
   "metadata": {},
   "source": [
    "    2.2. Create of function for finding a shortest path"
   ]
  },
  {
   "cell_type": "code",
   "execution_count": null,
   "id": "c32c434a",
   "metadata": {},
   "outputs": [],
   "source": [
    "def find_path(start, target):\n",
    "    print(f'Find path from {start} to {target}')\n",
    "    path = nx.astar_path(graph, start, target, euclidean)\n",
    "    print(f'Founded path: {path}\\n')\n",
    "    return path"
   ]
  },
  {
   "cell_type": "markdown",
   "id": "2d98b4c0",
   "metadata": {},
   "source": [
    "    2.3. Find a shortest path for 5 pairs of cells"
   ]
  },
  {
   "cell_type": "code",
   "execution_count": null,
   "id": "60df576e",
   "metadata": {},
   "outputs": [],
   "source": [
    "all_paths = []\n",
    "for i in range(5):\n",
    "    while True:\n",
    "        start = (np.random.randint(0, 9), np.random.randint(0, 19))\n",
    "        target = (np.random.randint(0, 9), np.random.randint(0, 19))\n",
    "        if (start not in removed) and (target not in removed):\n",
    "            break\n",
    "    all_paths.append(find_path(start, target))"
   ]
  },
  {
   "cell_type": "markdown",
   "id": "a5d773fc",
   "metadata": {},
   "source": [
    "    2.4. Visualize a shortest path for 5 pair of cells"
   ]
  },
  {
   "cell_type": "code",
   "execution_count": null,
   "id": "b0a39eb0",
   "metadata": {
    "scrolled": false
   },
   "outputs": [],
   "source": [
    "color_list = ['b', 'r', 'g', 'c', 'y']\n",
    "for path, color in zip(all_paths, color_list):\n",
    "        nx.draw_networkx(graph, pos, node_size=5, with_labels = False)\n",
    "        nx.draw_networkx_nodes(graph, pos, nodelist=path, node_color=color, node_size=30)\n",
    "        plt.show()"
   ]
  },
  {
   "cell_type": "markdown",
   "id": "ae43a0f3",
   "metadata": {},
   "source": [
    "**III. Describe the data structures and design techniques used within the algorithms.**"
   ]
  },
  {
   "cell_type": "markdown",
   "id": "92cf1601",
   "metadata": {},
   "source": [
    "A Graph is a non-linear data structure consisting of vertices and edges. The vertices are sometimes also referred to as nodes and the edges are lines or arcs that connect any two nodes in the graph. More formally a Graph is composed of a set of vertices (V) and a set of edges (E). The graph is denoted by G(E, V). Undirected and unweight mean that the graph does not have directions between his verticles and all adges have the same weight."
   ]
  }
 ],
 "metadata": {
  "kernelspec": {
   "display_name": "Python 3 (ipykernel)",
   "language": "python",
   "name": "python3"
  },
  "language_info": {
   "codemirror_mode": {
    "name": "ipython",
    "version": 3
   },
   "file_extension": ".py",
   "mimetype": "text/x-python",
   "name": "python",
   "nbconvert_exporter": "python",
   "pygments_lexer": "ipython3",
   "version": "3.10.9"
  }
 },
 "nbformat": 4,
 "nbformat_minor": 5
}
